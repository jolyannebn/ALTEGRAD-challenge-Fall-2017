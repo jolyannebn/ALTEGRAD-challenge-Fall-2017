{
 "cells": [
  {
   "cell_type": "code",
   "execution_count": null,
   "metadata": {
    "scrolled": true
   },
   "outputs": [],
   "source": [
    "# General\n",
    "import numpy as np\n",
    "import pandas as pd\n",
    "\n",
    "# For split\n",
    "from sklearn.model_selection import train_test_split\n",
    "\n",
    "# Features extraction\n",
    "from sklearn.feature_extraction.text import TfidfVectorizer\n",
    "from sklearn.metrics.pairwise import cosine_similarity\n",
    "\n",
    "# Classifiers\n",
    "from sklearn.neural_network import MLPClassifier\n",
    "from sklearn.neighbors import KNeighborsClassifier\n",
    "from sklearn.svm import SVC\n",
    "from sklearn.gaussian_process import GaussianProcessClassifier\n",
    "from sklearn.gaussian_process.kernels import RBF\n",
    "from sklearn.tree import DecisionTreeClassifier\n",
    "from sklearn.ensemble import RandomForestClassifier, AdaBoostClassifier\n",
    "from sklearn.naive_bayes import GaussianNB\n",
    "from sklearn.discriminant_analysis import QuadraticDiscriminantAnalysis\n",
    "\n",
    "# Grid search\n",
    "from sklearn.model_selection import GridSearchCV\n",
    "from sklearn.metrics import classification_report\n",
    "\n",
    "# Scores\n",
    "from sklearn.metrics import accuracy_score\n",
    "from sklearn.metrics import log_loss\n",
    "from fuzzywuzzy import fuzz\n",
    "from jellyfish import jaro_distance, jaro_winkler\n",
    "\n",
    "# Figure and plot\n",
    "import matplotlib.pyplot as plt\n",
    "\n",
    "import nltk\n",
    "import re \n",
    "import itertools\n",
    "import operator\n",
    "import copy\n",
    "import igraph\n",
    "import heapq\n",
    "import string\n",
    "from nltk.corpus import stopwords\n",
    "from nltk.tokenize import word_tokenize\n",
    "from igraph import plot\n",
    "from library import clean_text_simple, terms_to_graph, unweighted_k_core"
   ]
  },
  {
   "cell_type": "code",
   "execution_count": null,
   "metadata": {
    "collapsed": true,
    "scrolled": true
   },
   "outputs": [],
   "source": [
    "stpwds = stopwords.words('english')\n",
    "punct = string.punctuation.replace('-', '')"
   ]
  },
  {
   "cell_type": "code",
   "execution_count": 125,
   "metadata": {
    "collapsed": true,
    "scrolled": true
   },
   "outputs": [],
   "source": [
    "def get_pos_tag_sentence(d):\n",
    "    sent = tuple(d.split())\n",
    "    return nltk.pos_tag(sent)"
   ]
  },
  {
   "cell_type": "code",
   "execution_count": 126,
   "metadata": {
    "collapsed": true,
    "scrolled": true
   },
   "outputs": [],
   "source": [
    "def get_pos_tag_word(d):  \n",
    "    return nltk.pos_tag(nltk.word_tokenize(d))"
   ]
  },
  {
   "cell_type": "code",
   "execution_count": 127,
   "metadata": {
    "collapsed": true,
    "scrolled": true
   },
   "outputs": [],
   "source": [
    "def get_pos_tag_word_single_words(word):  \n",
    "    buf = nltk.pos_tag(nltk.word_tokenize(word))\n",
    "    print(buf, buf[0], buf[1])\n",
    "    return nltk.pos_tag(nltk.word_tokenize(word))"
   ]
  },
  {
   "cell_type": "code",
   "execution_count": 128,
   "metadata": {
    "collapsed": true,
    "scrolled": true
   },
   "outputs": [],
   "source": [
    "def getPosTagDescription(pos):\n",
    "    return posTagDescription[pos]"
   ]
  },
  {
   "cell_type": "code",
   "execution_count": 129,
   "metadata": {
    "collapsed": true,
    "scrolled": true
   },
   "outputs": [],
   "source": [
    "def transform_sentence_to_pos_tag(d):\n",
    "    pos = get_pos_tag_sentence(d)\n",
    "    lst = \"\"\n",
    "    sep = \"\"\n",
    "    for p in pos:\n",
    "        lst = lst + sep + p[1]\n",
    "        sep = \" \"\n",
    "    return lst"
   ]
  },
  {
   "cell_type": "code",
   "execution_count": 130,
   "metadata": {
    "collapsed": true,
    "scrolled": true
   },
   "outputs": [],
   "source": [
    "posTagDescription = {\n",
    "    'CC': 'coordinating conjunction or',\n",
    "    'CD': 'cardinal number 2, second',\n",
    "    'DT': 'determiner the',\n",
    "    'EX': 'existential there there are',\n",
    "    'FW': 'foreign word kindergarten',\n",
    "    'IN': 'preposition/subordinating conjunction on, of, like',\n",
    "    'JJ': 'adjective cool',\n",
    "    'JJR': 'adjective, comparative cooler',\n",
    "    'JJS': 'adjective, superlative coolest',\n",
    "    'LS': 'list marker 1)',\n",
    "    'MD': 'modal could, will',\n",
    "    'NN': 'noun, singular or mass book',\n",
    "    'NNS': 'noun plural books',\n",
    "    'NNP': 'proper noun, singular Sean',\n",
    "    'NNPS': 'proper noun, plural Vikings',\n",
    "    'PDT': 'predeterminer both the boys',\n",
    "    'POS': 'possessive ending friend\\'s',\n",
    "    'PRP': 'personal pronoun I, he, it',\n",
    "    'PRP$': 'possessive pronoun my, his',\n",
    "    'RB': 'adverb however, usually, naturally, here, good',\n",
    "    'RBR': 'adverb, comparative better',\n",
    "    'RBS': 'adverb, superlative best',\n",
    "    'RP': 'particle give up',\n",
    "    'TO': 'to to go, to him',\n",
    "    'UH': 'interjection uhhuhhuhh',\n",
    "    'VB': 'verb, base form take',\n",
    "    'VBD': 'verb, past tense took',\n",
    "    'VBG': 'verb, gerund/present participle taking',\n",
    "    'VBN': 'verb, past participle taken',\n",
    "    'VBP': 'verb, sing. present, non-3d take',\n",
    "    'VBZ': 'verb, 3rd person sing. present takes',\n",
    "    'WDT': 'wh-determiner which',\n",
    "    'WP': 'wh-pronoun who, what',\n",
    "    'WP$': 'possessive wh-pronoun whose',\n",
    "    'WRB': 'wh-abverb where, when'\n",
    "}"
   ]
  },
  {
   "cell_type": "code",
   "execution_count": 131,
   "metadata": {
    "collapsed": true,
    "scrolled": true
   },
   "outputs": [],
   "source": [
    "def display_info_graph(s1):\n",
    "    # pre-process document\n",
    "    t1 = clean_text_simple(s1, my_stopwords=stpwds, punct=punct, remove_stopwords=False, pos_filtering=False, stemming=False)\n",
    "    g = terms_to_graph(t1, w=3)\n",
    "\n",
    "    # number of edges\n",
    "    print \"\\nnumber of edges:\\n\", len(g.es)\n",
    "\n",
    "    # the number of nodes should be equal to the number of unique terms\n",
    "    len(g.vs) == len(set(t1))\n",
    "\n",
    "    edge_weights = []\n",
    "    for edge in g.es:\n",
    "        source = g.vs[edge.source]['name']\n",
    "        target = g.vs[edge.target]['name']\n",
    "        weight = edge['weight']\n",
    "        edge_weights.append([source, target, weight])\n",
    "\n",
    "    print \"\\nedge_weights:\\n\", edge_weights\n",
    "\n",
    "    \"\"\"for w in range(2,11):\n",
    "        g = terms_to_graph(my_tokens, w)\n",
    "        print g.density()\"\"\"\n",
    "\n",
    "    # decompose g\n",
    "    core_numbers = unweighted_k_core(g)\n",
    "    print \"\\ncore_numbers:\\n\", core_numbers\n",
    "\n",
    "    # compare with igraph method\n",
    "    print \"\\ncompare with igraph method:\\n\", dict(zip(g.vs[\"name\"],g.coreness()))\n",
    "\n",
    "    # retain main core as keywords\n",
    "    max_c_n = max(core_numbers.values())\n",
    "    keywords = [kwd for kwd, c_n in core_numbers.iteritems() if c_n == max_c_n]\n",
    "    print \"\\nkeywords:\\n\", keywords\n",
    "    return keywords"
   ]
  },
  {
   "cell_type": "code",
   "execution_count": 132,
   "metadata": {
    "collapsed": true,
    "scrolled": true
   },
   "outputs": [],
   "source": [
    "def get_keywords(s1):\n",
    "    t1 = clean_text_simple(s1, my_stopwords=stpwds, punct=punct, remove_stopwords=False, pos_filtering=False, stemming=False)\n",
    "    g = terms_to_graph(t1, w=2)\n",
    "\n",
    "    edge_weights = []\n",
    "    for edge in g.es:\n",
    "        source = g.vs[edge.source]['name']\n",
    "        target = g.vs[edge.target]['name']\n",
    "        weight = edge['weight']\n",
    "        edge_weights.append([source, target, weight])\n",
    "\n",
    "    core_numbers = unweighted_k_core(g)\n",
    "  \n",
    "    max_c_n = max(core_numbers.values())\n",
    "    keywords = [kwd for kwd, c_n in core_numbers.iteritems() if c_n == max_c_n]\n",
    "    \n",
    "    return keywords"
   ]
  },
  {
   "cell_type": "code",
   "execution_count": 183,
   "metadata": {
    "collapsed": true,
    "scrolled": true
   },
   "outputs": [],
   "source": [
    "df = pd.read_csv('data/train.csv', names=['row_ID', 'text_a_ID', 'text_b_ID', 'text_a_text', 'text_b_text', 'target'])\n",
    "train, test = train_test_split(df, test_size=0.3)"
   ]
  },
  {
   "cell_type": "code",
   "execution_count": 184,
   "metadata": {
    "scrolled": true
   },
   "outputs": [
    {
     "data": {
      "text/html": [
       "<div>\n",
       "<style scoped>\n",
       "    .dataframe tbody tr th:only-of-type {\n",
       "        vertical-align: middle;\n",
       "    }\n",
       "\n",
       "    .dataframe tbody tr th {\n",
       "        vertical-align: top;\n",
       "    }\n",
       "\n",
       "    .dataframe thead th {\n",
       "        text-align: right;\n",
       "    }\n",
       "</style>\n",
       "<table border=\"1\" class=\"dataframe\">\n",
       "  <thead>\n",
       "    <tr style=\"text-align: right;\">\n",
       "      <th></th>\n",
       "      <th>row_ID</th>\n",
       "      <th>text_a_ID</th>\n",
       "      <th>text_b_ID</th>\n",
       "      <th>text_a_text</th>\n",
       "      <th>text_b_text</th>\n",
       "      <th>target</th>\n",
       "    </tr>\n",
       "  </thead>\n",
       "  <tbody>\n",
       "    <tr>\n",
       "      <th>11</th>\n",
       "      <td>11</td>\n",
       "      <td>422283</td>\n",
       "      <td>387926</td>\n",
       "      <td>What does surgical strike mean?</td>\n",
       "      <td>What is the surgical strike?</td>\n",
       "      <td>1</td>\n",
       "    </tr>\n",
       "    <tr>\n",
       "      <th>43</th>\n",
       "      <td>43</td>\n",
       "      <td>78910</td>\n",
       "      <td>83625</td>\n",
       "      <td>What is the best method of losing weight?</td>\n",
       "      <td>How should I loose weight?</td>\n",
       "      <td>1</td>\n",
       "    </tr>\n",
       "    <tr>\n",
       "      <th>15</th>\n",
       "      <td>15</td>\n",
       "      <td>192860</td>\n",
       "      <td>103497</td>\n",
       "      <td>What is the best way to spank someone?</td>\n",
       "      <td>What is the best way to spank myself?</td>\n",
       "      <td>0</td>\n",
       "    </tr>\n",
       "    <tr>\n",
       "      <th>12</th>\n",
       "      <td>12</td>\n",
       "      <td>353154</td>\n",
       "      <td>165955</td>\n",
       "      <td>Is it safe to apply aloe vera gel on the face ...</td>\n",
       "      <td>How can I buy the best aloe vera gel for face?</td>\n",
       "      <td>0</td>\n",
       "    </tr>\n",
       "    <tr>\n",
       "      <th>36</th>\n",
       "      <td>36</td>\n",
       "      <td>232757</td>\n",
       "      <td>329622</td>\n",
       "      <td>What is the craziest question ever asked on Qu...</td>\n",
       "      <td>What are some of the weirdest questions asked ...</td>\n",
       "      <td>1</td>\n",
       "    </tr>\n",
       "  </tbody>\n",
       "</table>\n",
       "</div>"
      ],
      "text/plain": [
       "    row_ID  text_a_ID  text_b_ID  \\\n",
       "11      11     422283     387926   \n",
       "43      43      78910      83625   \n",
       "15      15     192860     103497   \n",
       "12      12     353154     165955   \n",
       "36      36     232757     329622   \n",
       "\n",
       "                                          text_a_text  \\\n",
       "11                    What does surgical strike mean?   \n",
       "43          What is the best method of losing weight?   \n",
       "15             What is the best way to spank someone?   \n",
       "12  Is it safe to apply aloe vera gel on the face ...   \n",
       "36  What is the craziest question ever asked on Qu...   \n",
       "\n",
       "                                          text_b_text  target  \n",
       "11                       What is the surgical strike?       1  \n",
       "43                         How should I loose weight?       1  \n",
       "15              What is the best way to spank myself?       0  \n",
       "12     How can I buy the best aloe vera gel for face?       0  \n",
       "36  What are some of the weirdest questions asked ...       1  "
      ]
     },
     "execution_count": 184,
     "metadata": {},
     "output_type": "execute_result"
    }
   ],
   "source": [
    "train.head()"
   ]
  },
  {
   "cell_type": "code",
   "execution_count": 185,
   "metadata": {
    "collapsed": true,
    "scrolled": true
   },
   "outputs": [],
   "source": [
    "def transformKeywordsIntoType(sent):\n",
    "    lst, sep = \"\", \"\"\n",
    "    for idx, word in enumerate(sent):\n",
    "        buf = nltk.pos_tag(nltk.word_tokenize(word))\n",
    "        lst = lst + sep + buf[0][1]\n",
    "        sep = \" \"\n",
    "    return lst"
   ]
  },
  {
   "cell_type": "code",
   "execution_count": 186,
   "metadata": {
    "collapsed": true,
    "scrolled": true
   },
   "outputs": [],
   "source": [
    "texts = {}\n",
    "pairs_train = []\n",
    "pairs_test = []\n",
    "y_train = []\n",
    "y_true = []\n",
    "\n",
    "for idx, l in enumerate(train.values):\n",
    "    \n",
    "    if l[1] not in texts:\n",
    "        texts[l[1]] = transformKeywordsIntoType(get_keywords(l[3]))\n",
    "    if l[2] not in texts:\n",
    "        texts[l[2]] = transformKeywordsIntoType(get_keywords(l[4]))\n",
    "\n",
    "    pairs_train.append([l[1], l[2]])\n",
    "\n",
    "    y_train.append(int(l[5]))\n",
    "    \n",
    "for idx, l in enumerate(test.values):\n",
    "    if l[1] not in texts:\n",
    "        texts[l[1]] = transformKeywordsIntoType(get_keywords(l[3]))\n",
    "    if l[2] not in texts:\n",
    "        texts[l[2]] = transformKeywordsIntoType(get_keywords(l[4]))\n",
    "\n",
    "    pairs_test.append([l[1], l[2]])\n",
    "\n",
    "    y_true.append(int(l[5]))"
   ]
  },
  {
   "cell_type": "code",
   "execution_count": 187,
   "metadata": {
    "collapsed": true,
    "scrolled": true
   },
   "outputs": [],
   "source": [
    "ids2ind = {} # will contain the row idx of each unique text in the TFIDF matrix \n",
    "for qid in texts:\n",
    "    ids2ind[qid] = len(ids2ind)"
   ]
  },
  {
   "cell_type": "code",
   "execution_count": 188,
   "metadata": {
    "collapsed": true,
    "scrolled": true
   },
   "outputs": [],
   "source": [
    "vec = TfidfVectorizer()\n",
    "A = vec.fit_transform(texts.values())"
   ]
  },
  {
   "cell_type": "code",
   "execution_count": 189,
   "metadata": {
    "collapsed": true,
    "scrolled": true
   },
   "outputs": [],
   "source": [
    "def common_words(q1, q2):\n",
    "    everseen = list()\n",
    "    common = 0\n",
    "    for i, tag in enumerate(q1):\n",
    "        if tag in q2:\n",
    "            everseen.append(tag)\n",
    "            common = common + 1\n",
    "        else :\n",
    "            everseen.append(tag)\n",
    "    return common"
   ]
  },
  {
   "cell_type": "code",
   "execution_count": 190,
   "metadata": {
    "collapsed": true,
    "scrolled": true
   },
   "outputs": [],
   "source": [
    "def diff_words(q1, q2):\n",
    "    everseen = list()\n",
    "    diff = 0\n",
    "    for tag in q1:\n",
    "        if tag not in q2:\n",
    "            everseen.append(tag)\n",
    "            diff = diff + 1\n",
    "        else :\n",
    "            everseen.append(tag)          \n",
    "    for tag in q2:\n",
    "        if tag not in (everseen and q2):\n",
    "            everseen.append(tag)\n",
    "            diff = diff + 1\n",
    "    return diff"
   ]
  },
  {
   "cell_type": "code",
   "execution_count": 191,
   "metadata": {
    "collapsed": true,
    "scrolled": true
   },
   "outputs": [],
   "source": [
    "def fuzzy(q1_text, q2_text):   \n",
    "    q1_tokens=q1_text.split()\n",
    "    q2_tokens=q2_text.split()\n",
    "    fuzzy_distances = np.array([\n",
    "        fuzz.ratio(q1_tokens, q2_tokens),\n",
    "        fuzz.partial_ratio(q1_tokens, q2_tokens),\n",
    "        fuzz.token_sort_ratio(q1_tokens, q2_tokens),\n",
    "        fuzz.token_set_ratio(q1_tokens, q2_tokens),\n",
    "        fuzz.partial_token_sort_ratio(q1_tokens, q2_tokens),\n",
    "    ], dtype='float')\n",
    "    \n",
    "    # Normalize to [0 - 1] range.\n",
    "    fuzzy_distances /= 100\n",
    "    \n",
    "    jelly_distances = np.array([\n",
    "        jaro_distance(q1_text, q2_text),\n",
    "        jaro_winkler(q1_text, q2_text),\n",
    "    ])\n",
    "    \n",
    "    return np.concatenate([fuzzy_distances, jelly_distances])"
   ]
  },
  {
   "cell_type": "code",
   "execution_count": 192,
   "metadata": {
    "collapsed": true,
    "scrolled": true
   },
   "outputs": [],
   "source": [
    "NB_FEATURES = 1\n",
    "N_train = len(pairs_train)\n",
    "X_train = np.zeros((N_train, NB_FEATURES))\n",
    "N_test = len(pairs_test)\n",
    "X_test = np.zeros((N_test, NB_FEATURES))\n",
    "\n",
    "for i in range(len(pairs_train)):\n",
    "    q1 = pairs_train[i][0]\n",
    "    q2 = pairs_train[i][1]\n",
    "    X_train[i, 0] = cosine_similarity(A[ids2ind[q1], :], A[ids2ind[q2], :])    \n",
    "    X_train[i, 1] = len(texts[q1].split()) + len(texts[q2].split())\n",
    "    X_train[i, 2] = abs(len(texts[q1].split()) - len(texts[q2].split()))   \n",
    "    X_train[i, 3] = common_words(texts[q1].split(), texts[q2].split())\n",
    "    X_train[i, 4] = diff_words(texts[q1].split(), texts[q2].split())\n",
    "    \n",
    "\n",
    "for i in range(len(pairs_test)):\n",
    "    q1 = pairs_test[i][0]\n",
    "    q2 = pairs_test[i][1]\n",
    "    X_test[i, 0] = cosine_similarity(A[ids2ind[q1], :], A[ids2ind[q2], :])\n",
    "    X_test[i, 1] = len(texts[q1].split()) + len(texts[q2].split())\n",
    "    X_test[i, 2] = abs(len(texts[q1].split()) - len(texts[q2].split()))\n",
    "    X_test[i, 3] = common_words(texts[q1].split(), texts[q2].split())\n",
    "    X_test[i, 4] = diff_words(texts[q1].split(), texts[q2].split())"
   ]
  },
  {
   "cell_type": "code",
   "execution_count": 193,
   "metadata": {
    "scrolled": true
   },
   "outputs": [
    {
     "data": {
      "text/plain": [
       "RandomForestClassifier(bootstrap=True, class_weight=None, criterion='gini',\n",
       "            max_depth=None, max_features='auto', max_leaf_nodes=None,\n",
       "            min_impurity_decrease=0.0, min_impurity_split=None,\n",
       "            min_samples_leaf=1, min_samples_split=2,\n",
       "            min_weight_fraction_leaf=0.0, n_estimators=10, n_jobs=1,\n",
       "            oob_score=False, random_state=None, verbose=0,\n",
       "            warm_start=False)"
      ]
     },
     "execution_count": 193,
     "metadata": {},
     "output_type": "execute_result"
    }
   ],
   "source": [
    "clf = RandomForestClassifier()\n",
    "clf.fit(X_train, y_train)"
   ]
  },
  {
   "cell_type": "code",
   "execution_count": 194,
   "metadata": {
    "collapsed": true,
    "scrolled": true
   },
   "outputs": [],
   "source": [
    "y_pred = clf.predict_proba(X_test)"
   ]
  },
  {
   "cell_type": "code",
   "execution_count": 195,
   "metadata": {
    "scrolled": true
   },
   "outputs": [
    {
     "name": "stdout",
     "output_type": "stream",
     "text": [
      "cross entropy = 4.873214728135228\n"
     ]
    }
   ],
   "source": [
    "loss = log_loss(y_true, y_pred, eps = 1e-15, normalize = True, sample_weight = None, labels = None)\n",
    "print(\"cross entropy = \" + str(loss))"
   ]
  },
  {
   "cell_type": "code",
   "execution_count": 196,
   "metadata": {
    "scrolled": true
   },
   "outputs": [
    {
     "name": "stdout",
     "output_type": "stream",
     "text": [
      "('Random Forest', 'Best parameters :', {'n_estimators': 1, 'bootstrap': True, 'criterion': 'entropy', 'max_depth': 20}, 'Loss:', 12.952041148091507)\n",
      "cross entropy = 12.952041148091507\n"
     ]
    }
   ],
   "source": [
    "names_classifier_cv = [\"Random Forest\"]\n",
    "\n",
    "names_classifiers_tunedParams = [\n",
    "    [\"Random Forest\", RandomForestClassifier(), {\"n_estimators\": [1, 5, 10, 50, 100, 500],\n",
    "                                                 \"max_depth\": [1, 3, 5, 10, 20], \n",
    "                                                 \"bootstrap\": [True, False], \n",
    "                                                 \"criterion\": [\"gini\", \"entropy\"]}]\n",
    "]\n",
    "\n",
    "logLoss = []\n",
    "for name, classifer, tunedParam in names_classifiers_tunedParams:\n",
    "    clf = GridSearchCV(classifer, tunedParam)\n",
    "    clf.fit(X_train, y_train)\n",
    "    y_pred = clf.predict_proba(X_test)\n",
    "    loss = log_loss(y_true, y_pred, eps=1e-15, normalize=True, sample_weight=None, labels=None)\n",
    "    print(name, \"Best parameters :\", clf.best_params_, \"Loss:\", loss)\n",
    "    logLoss.append(loss)\n",
    "    \n",
    "    print(\"cross entropy = \" + str(loss))\n",
    "    "
   ]
  },
  {
   "cell_type": "code",
   "execution_count": 197,
   "metadata": {
    "scrolled": false
   },
   "outputs": [
    {
     "data": {
      "image/png": "[encoded data removed]",
      "text/plain": [
       "<matplotlib.figure.Figure at 0x25938a20>"
      ]
     },
     "metadata": {},
     "output_type": "display_data"
    }
   ],
   "source": [
    "plt.figure(figsize=(16, 8))\n",
    "x = np.arange(len(logLoss))\n",
    "plt.bar(x, logLoss, alpha=0.5, color=[\"purple\"])\n",
    "plt.xticks(x, names_classifier_cv)\n",
    "plt.xlabel(\"Classifiers\")\n",
    "plt.ylabel(\"Loss\")\n",
    "plt.title(\"Loss for Random forest with Model Tuning\")\n",
    "plt.show()"
   ]
  }
 ],
 "metadata": {
  "kernelspec": {
   "display_name": "Python 3",
   "language": "python",
   "name": "python3"
  },
  "language_info": {
   "codemirror_mode": {
    "name": "ipython",
    "version": 3
   },
   "file_extension": ".py",
   "mimetype": "text/x-python",
   "name": "python",
   "nbconvert_exporter": "python",
   "pygments_lexer": "ipython3",
   "version": "3.6.2"
  }
 },
 "nbformat": 4,
 "nbformat_minor": 2
}
